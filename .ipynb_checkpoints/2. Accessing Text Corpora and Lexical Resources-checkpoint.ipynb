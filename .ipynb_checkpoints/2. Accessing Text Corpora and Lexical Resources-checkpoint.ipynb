{
 "cells": [
  {
   "cell_type": "code",
   "execution_count": 3,
   "metadata": {
    "collapsed": false
   },
   "outputs": [
    {
     "data": {
      "text/plain": [
       "[u'austen-emma.txt',\n",
       " u'austen-persuasion.txt',\n",
       " u'austen-sense.txt',\n",
       " u'bible-kjv.txt',\n",
       " u'blake-poems.txt',\n",
       " u'bryant-stories.txt',\n",
       " u'burgess-busterbrown.txt',\n",
       " u'carroll-alice.txt',\n",
       " u'chesterton-ball.txt',\n",
       " u'chesterton-brown.txt',\n",
       " u'chesterton-thursday.txt',\n",
       " u'edgeworth-parents.txt',\n",
       " u'melville-moby_dick.txt',\n",
       " u'milton-paradise.txt',\n",
       " u'shakespeare-caesar.txt',\n",
       " u'shakespeare-hamlet.txt',\n",
       " u'shakespeare-macbeth.txt',\n",
       " u'whitman-leaves.txt']"
      ]
     },
     "execution_count": 3,
     "metadata": {},
     "output_type": "execute_result"
    }
   ],
   "source": [
    "import nltk\n",
    "# 访问文本语料库\n",
    "nltk.corpus.gutenberg.fileids()"
   ]
  },
  {
   "cell_type": "code",
   "execution_count": 8,
   "metadata": {
    "collapsed": false
   },
   "outputs": [
    {
     "data": {
      "text/plain": [
       "192427"
      ]
     },
     "execution_count": 8,
     "metadata": {},
     "output_type": "execute_result"
    }
   ],
   "source": [
    "# 选择第一个\n",
    "emma = nltk.corpus.gutenberg.words('austen-emma.txt')\n",
    "len(emma)"
   ]
  },
  {
   "cell_type": "code",
   "execution_count": 9,
   "metadata": {
    "collapsed": false
   },
   "outputs": [
    {
     "name": "stdout",
     "output_type": "stream",
     "text": [
      "<class 'nltk.corpus.reader.util.StreamBackedCorpusView'>\n"
     ]
    }
   ],
   "source": [
    "print type(emma)\n"
   ]
  },
  {
   "cell_type": "code",
   "execution_count": 10,
   "metadata": {
    "collapsed": false
   },
   "outputs": [
    {
     "name": "stdout",
     "output_type": "stream",
     "text": [
      "Displaying 1 of 1 matches:\n",
      " that Emma could not but feel some surprise , and a little displeasure , on he\n"
     ]
    }
   ],
   "source": [
    "emma = nltk.Text(emma)\n",
    "emma.concordance(\"surprise\")"
   ]
  },
  {
   "cell_type": "code",
   "execution_count": 16,
   "metadata": {
    "collapsed": false
   },
   "outputs": [
    {
     "name": "stdout",
     "output_type": "stream",
     "text": [
      "(887071.0, 192427.0, 7344.0, u'austen-emma.txt')\n",
      "(466292.0, 98171.0, 5835.0, u'austen-persuasion.txt')\n",
      "(673022.0, 141576.0, 6403.0, u'austen-sense.txt')\n",
      "(4332554.0, 1010654.0, 12767.0, u'bible-kjv.txt')\n",
      "(38153.0, 8354.0, 1535.0, u'blake-poems.txt')\n",
      "(249439.0, 55563.0, 3940.0, u'bryant-stories.txt')\n",
      "(84663.0, 18963.0, 1559.0, u'burgess-busterbrown.txt')\n",
      "(144395.0, 34110.0, 2636.0, u'carroll-alice.txt')\n",
      "(457450.0, 96996.0, 8335.0, u'chesterton-ball.txt')\n",
      "(406629.0, 86063.0, 7794.0, u'chesterton-brown.txt')\n",
      "(320525.0, 69213.0, 6349.0, u'chesterton-thursday.txt')\n",
      "(935158.0, 210663.0, 8447.0, u'edgeworth-parents.txt')\n",
      "(1242990.0, 260819.0, 17231.0, u'melville-moby_dick.txt')\n",
      "(468220.0, 96825.0, 9021.0, u'milton-paradise.txt')\n",
      "(112310.0, 25833.0, 3032.0, u'shakespeare-caesar.txt')\n",
      "(162881.0, 37360.0, 4716.0, u'shakespeare-hamlet.txt')\n",
      "(100351.0, 23140.0, 3464.0, u'shakespeare-macbeth.txt')\n",
      "(711215.0, 154883.0, 12452.0, u'whitman-leaves.txt')\n"
     ]
    }
   ],
   "source": [
    "from nltk.corpus import gutenberg\n",
    "for fileid in gutenberg.fileids():\n",
    "    num_chars = len(gutenberg.raw(fileid))    # 字母数\n",
    "    num_words = len(gutenberg.words(fileid))  # 单词总数\n",
    "    #num_sents = len(gutenberg.sents(fileid)) # 句子数\n",
    "    num_vocab = len(set(w.lower() for w in gutenberg.words(fileid))) # 不重复的单词\n",
    "    print(round(num_chars), round(num_words), round(num_vocab), fileid)"
   ]
  },
  {
   "cell_type": "code",
   "execution_count": 12,
   "metadata": {
    "collapsed": false
   },
   "outputs": [
    {
     "name": "stdout",
     "output_type": "stream",
     "text": [
      "[nltk_data] Error loading punkt: <urlopen error [Errno -3] Temporary\n",
      "[nltk_data]     failure in name resolution>\n"
     ]
    },
    {
     "data": {
      "text/plain": [
       "False"
      ]
     },
     "execution_count": 12,
     "metadata": {},
     "output_type": "execute_result"
    }
   ],
   "source": [
    "nltk.download('punkt')"
   ]
  },
  {
   "cell_type": "code",
   "execution_count": 15,
   "metadata": {
    "collapsed": true
   },
   "outputs": [],
   "source": [
    "macbeth_sentences = gutenberg.sents('shakespeare-macbeth.txt')"
   ]
  },
  {
   "cell_type": "code",
   "execution_count": null,
   "metadata": {
    "collapsed": true
   },
   "outputs": [],
   "source": []
  }
 ],
 "metadata": {
  "kernelspec": {
   "display_name": "Python 2",
   "language": "python",
   "name": "python2"
  },
  "language_info": {
   "codemirror_mode": {
    "name": "ipython",
    "version": 2
   },
   "file_extension": ".py",
   "mimetype": "text/x-python",
   "name": "python",
   "nbconvert_exporter": "python",
   "pygments_lexer": "ipython2",
   "version": "2.7.13"
  }
 },
 "nbformat": 4,
 "nbformat_minor": 2
}
